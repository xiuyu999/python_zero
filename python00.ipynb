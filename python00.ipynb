{
 "cells": [
  {
   "cell_type": "code",
   "execution_count": 1,
   "metadata": {
    "collapsed": false
   },
   "outputs": [
    {
     "name": "stdout",
     "output_type": "stream",
     "text": [
      "113433.ipynb  data  work\r\n"
     ]
    }
   ],
   "source": [
    "\n",
    "!ls"
   ]
  },
  {
   "cell_type": "markdown",
   "metadata": {
    "collapsed": false
   },
   "source": [
    "# **基本数据类型和变量**"
   ]
  },
  {
   "cell_type": "code",
   "execution_count": 6,
   "metadata": {
    "collapsed": false
   },
   "outputs": [
    {
     "name": "stdout",
     "output_type": "stream",
     "text": [
      "Hello World\n"
     ]
    }
   ],
   "source": [
    "#打印输出Hello World\n",
    "print(\"Hello World\")\n",
    "#双引号，小括号必须在英文输入法下输入"
   ]
  },
  {
   "cell_type": "code",
   "execution_count": 7,
   "metadata": {
    "collapsed": false
   },
   "outputs": [
    {
     "name": "stdout",
     "output_type": "stream",
     "text": [
      "<class 'int'> <class 'float'> <class 'complex'>\n"
     ]
    }
   ],
   "source": [
    "#变量赋值，并打印打印变量a、b、c的类型\n",
    "a=3\n",
    "b=3.14\n",
    "c=3+4j\n",
    "\n",
    "\n",
    "print(type(a),type(b),type(c))\n",
    "\n"
   ]
  },
  {
   "cell_type": "code",
   "execution_count": 11,
   "metadata": {
    "collapsed": false
   },
   "outputs": [],
   "source": [
    "#字符串可用单，双，三引号，#\n",
    "e= ' hello world 1 '\n",
    "d=\"hello world 2\"\n",
    "f='''hello world 3'''\n",
    "\n",
    "print(e)\n",
    "print(d)\n",
    "print(f)\n",
    "print(\"hello \\n world\")  # 和c语言一样，字符串中可有转义字符"
   ]
  },
  {
   "cell_type": "code",
   "execution_count": 6,
   "metadata": {
    "collapsed": false
   },
   "outputs": [],
   "source": [
    "#创建列表，打印输出列表元素\n",
    "greet=\"Hello John\"\n",
    "print(greet[2])\n",
    "x=8\n",
    "print(greet[x-2])\n",
    "print(greet[-4]) #此条语句和下一条语句不能同时显示\n",
    "print(greet[0:3])"
   ]
  },
  {
   "cell_type": "code",
   "execution_count": 14,
   "metadata": {
    "collapsed": false
   },
   "outputs": [],
   "source": [
    "#连接字符串\n",
    "print(\"pine\"+\"apple\")\n",
    "print(3*\"pine\")\n",
    "print(len(\"pine\"))\n",
    "print(len(\"祖国，您好！\"))"
   ]
  },
  {
   "cell_type": "code",
   "execution_count": 13,
   "metadata": {
    "collapsed": false
   },
   "outputs": [],
   "source": [
    "# 列表类型 []\n",
    "#创建列表，打印输出列表元素\n",
    "lst=[1,2,3,4]\n",
    "print(lst)\n",
    "\n",
    "# 列表元素索引 lst[0] 取列表的第一个元素，lst[-1],取最后一个元素，注意下标从0开始\n",
    "print(lst[0])#打印输出第一个元素\n",
    "print(lst[3])# 第4个元素\n",
    "lst[0]=9 #将第一个元素改为9\n",
    "print(lst) #查看修改结果，重新打印输出lst\n",
    "# 列表元素切片\n",
    "print(lst[0:3])"
   ]
  },
  {
   "cell_type": "code",
   "execution_count": 24,
   "metadata": {
    "collapsed": false
   },
   "outputs": [],
   "source": [
    "#----------试一试1 ---------------#\n",
    "# 任务1： 取lst倒数第二个元素\n",
    "\n",
    "# 任务2 ：判断lst 的类型\n",
    "\n",
    "\n",
    "# 任务3 ：取lst 第2个元素开始到最后的所有元素"
   ]
  },
  {
   "cell_type": "code",
   "execution_count": 21,
   "metadata": {
    "collapsed": false
   },
   "outputs": [],
   "source": [
    "#用range（） 函数创建并打印一个整数列表\n",
    "a=range(5)\n",
    "print(type(a)) # range()返回的是range类型\n",
    "print(list(a))  # 把range() 转换为列表类型，并输出\n",
    "\n",
    "b=range(1,10,2) # 从1开始每隔二个数，生成一个序列\n",
    "print(list(b))"
   ]
  },
  {
   "cell_type": "code",
   "execution_count": 26,
   "metadata": {
    "collapsed": false
   },
   "outputs": [],
   "source": [
    "# ---------------试一试2  ----------------------\n",
    "# 任务1  产生内容为 100到1 的倒序列表 lst\n",
    "\n",
    "# 任务2  打印列表内容"
   ]
  },
  {
   "cell_type": "code",
   "execution_count": 27,
   "metadata": {
    "collapsed": false
   },
   "outputs": [],
   "source": [
    "#创建一个字符列表，打印元素\n",
    "ls=['a','b','c','d','e']\n",
    "print(ls[0]) #打印第一个元素"
   ]
  },
  {
   "cell_type": "code",
   "execution_count": 36,
   "metadata": {
    "collapsed": false
   },
   "outputs": [],
   "source": [
    "#创建列表，列表内可用放各种类型的元素\n",
    "ls=[\"hello\",1,2,3,4]\n",
    "print(ls)\n"
   ]
  },
  {
   "cell_type": "code",
   "execution_count": 40,
   "metadata": {
    "collapsed": false
   },
   "outputs": [],
   "source": [
    "# 括号( )  代表元组类型\n",
    "#创建元组并打印输出\n",
    "t=(1,2,3)\n",
    "print(type(t))\n",
    "print(t)\n",
    "\n",
    "print(t[0]) #打印输出第一个元素\n",
    "print(t[2])\n"
   ]
  },
  {
   "cell_type": "code",
   "execution_count": 43,
   "metadata": {
    "collapsed": false
   },
   "outputs": [],
   "source": [
    "# -----------试一试 3 -----------------\n",
    "# 任务1    t[0]=9  #  查找资料，了解元组为何不能赋值\n",
    "# 任务2     运行以下代码，思考为何t是是什么类型，只有1个元素的元组如何初始化？\n",
    "#            t=(1)\n",
    "#            print(type(t))  "
   ]
  },
  {
   "cell_type": "code",
   "execution_count": 44,
   "metadata": {
    "collapsed": false
   },
   "outputs": [],
   "source": [
    "#  {} 可用于创建字典或集合类型\n",
    "# 用键值对，创建有3个元素的字典 \n",
    "d={'Michael':95,'Bob':75,'Tracy':85}\n",
    "\n",
    "# 采用关键字\"Michael\"\"对字典的元素进行索引\n",
    "print(d['Michael'])\n",
    "\n",
    "# 采用关键字判断字典中是否存在元素\n",
    "'Thomas' in d #测试Thomas是否在d中"
   ]
  },
  {
   "cell_type": "code",
   "execution_count": 47,
   "metadata": {
    "collapsed": false
   },
   "outputs": [],
   "source": [
    "#计算两个数的和\n",
    "a=eval(input(\"请输入第1个数：\"))\n",
    "b=eval(input(\"请输入第2个数：\"))\n",
    "print(a+b) #运行程序观察存在的问题"
   ]
  },
  {
   "cell_type": "code",
   "execution_count": 49,
   "metadata": {
    "collapsed": false
   },
   "outputs": [],
   "source": [
    "#计算BMI指数\n",
    "weight=eval(input(\"请输入体重(kg)：\"))\n",
    "height=eval(input(\"请输入身高(m)：\"))\n",
    "bmi=weight/(height*height) #计算bmi\n",
    "print(bmi)# 查找资料看看BMI指数是什么\n"
   ]
  },
  {
   "cell_type": "markdown",
   "metadata": {
    "collapsed": false
   },
   "source": [
    "# **运算符与表达式**"
   ]
  },
  {
   "cell_type": "code",
   "execution_count": 50,
   "metadata": {
    "collapsed": false
   },
   "outputs": [],
   "source": [
    "#算术运算符\n",
    "a=10\n",
    "b=21\n",
    "print(a+b)\n",
    "print(a-b)\n",
    "print(a*b)\n",
    "print(b/a)\n",
    "print(b%a) #取模-返回除法的余数\n",
    "print(9**3) #幂-返回9的3次方\n",
    "print(9//2) #取整除-向下取接近除数的余数\n",
    "print(-9//2)"
   ]
  },
  {
   "cell_type": "code",
   "execution_count": 51,
   "metadata": {
    "collapsed": false
   },
   "outputs": [],
   "source": [
    "#比较运算符\n",
    "a=10\n",
    "b=20\n",
    "print(a==b) #比较对象是否相等\n",
    "print(a!=b) #比较对象是否不相等\n",
    "print(a>b) \n",
    "print(a<b)\n",
    "print(a>=b)\n",
    "print(a<=b)"
   ]
  },
  {
   "cell_type": "code",
   "execution_count": 52,
   "metadata": {
    "collapsed": false
   },
   "outputs": [],
   "source": [
    "#赋值运算符\n",
    "a=10\n",
    "b=20\n",
    "c=a+b\n",
    "print(c)\n",
    "c+=a #等价于c=c+a\n",
    "print(c)\n",
    "c-=a\n",
    "print(c)\n",
    "c*=a\n",
    "print(c)\n",
    "c/=a\n",
    "print(c)\n",
    "c%=a #c的值为0\n",
    "print(c)\n",
    "c**=a #c的值为0\n",
    "print(c)\n",
    "c//=a #c的值为0\n",
    "print(c)"
   ]
  },
  {
   "cell_type": "code",
   "execution_count": 54,
   "metadata": {
    "collapsed": false
   },
   "outputs": [],
   "source": [
    "#逻辑运算符\n",
    "a=10\n",
    "b=20\n",
    "print(a and b)  # 注意  返回值\n",
    "print(a or b)   # 注意返回值  \n",
    "print(not(a and b))"
   ]
  },
  {
   "cell_type": "code",
   "execution_count": 55,
   "metadata": {
    "collapsed": false
   },
   "outputs": [],
   "source": [
    "#运算符优先级\n",
    "a=20\n",
    "b=10\n",
    "c=15\n",
    "d=5\n",
    "e=(a+b)*c/d\n",
    "print(e)\n",
    "e=(a+b)*(c/d)\n",
    "print(e)\n",
    "e=a+(b*c)/d\n",
    "print(e)"
   ]
  },
  {
   "cell_type": "markdown",
   "metadata": {
    "collapsed": false
   },
   "source": [
    "# **程序的控制结构**"
   ]
  },
  {
   "cell_type": "code",
   "execution_count": null,
   "metadata": {
    "collapsed": false
   },
   "outputs": [],
   "source": [
    "print(\"Sunday\")\n",
    "print(\"Monday\")\n",
    "print(\"Tuesday\")\n",
    "print(\"Wednesday\")\n",
    "print(\"Thursday\")\n",
    "print(\"Friday\")\n",
    "print(\"Saturday\")"
   ]
  },
  {
   "cell_type": "code",
   "execution_count": 57,
   "metadata": {
    "collapsed": false
   },
   "outputs": [],
   "source": [
    "#输入对应数字自动输出星期几\n",
    "n=eval(input(\"请输入一个数字（0-6）：\"))\n",
    "if n==0:                              # 注意 if 后面的冒号：\n",
    "    print(\"Sunday\")\n",
    "elif n==1:                          # 注意python 用的是 elif  而不是 else if ，注意冒号：\n",
    "    print(\"Monday\")\n",
    "elif n==2:\n",
    "    print(\"Tuesday\")"
   ]
  },
  {
   "cell_type": "code",
   "execution_count": 65,
   "metadata": {
    "collapsed": false
   },
   "outputs": [],
   "source": [
    "# --------------试一试 4-----------\n",
    "#任务1  把以上程序完善-"
   ]
  },
  {
   "cell_type": "code",
   "execution_count": 58,
   "metadata": {
    "collapsed": false
   },
   "outputs": [],
   "source": [
    "#用for循环打印元组\n",
    "ls=['Sun','Mon','Tues','Wed','Thu','Fri','Sat']\n",
    "for i in ls:        #   in 运算符， 注意冒号:\n",
    "    print(i)"
   ]
  },
  {
   "cell_type": "code",
   "execution_count": 3,
   "metadata": {
    "collapsed": false
   },
   "outputs": [
    {
     "data": {
      "text/plain": [
       "[0, 1, 2, 3, 4, 5, 6, 7, 8, 9]"
      ]
     },
     "execution_count": 3,
     "metadata": {},
     "output_type": "execute_result"
    }
   ],
   "source": [
    "list(range(10))"
   ]
  },
  {
   "cell_type": "code",
   "execution_count": 59,
   "metadata": {
    "collapsed": false
   },
   "outputs": [],
   "source": [
    "#用for循环打印整数元组\n",
    "for x in range(10):\n",
    "    print(x)"
   ]
  },
  {
   "cell_type": "code",
   "execution_count": 60,
   "metadata": {
    "collapsed": false
   },
   "outputs": [],
   "source": [
    "#用for循环打印字符串中的元素\n",
    "for item in \"Hello\":\n",
    "    print(item)"
   ]
  },
  {
   "cell_type": "code",
   "execution_count": 62,
   "metadata": {
    "collapsed": false
   },
   "outputs": [],
   "source": [
    "#用while循环求10以内奇数之和\n",
    "sum=0\n",
    "i=1\n",
    "while i<=10:           # 注意冒号：\n",
    "    sum=sum+i\n",
    "    i=i+2\n",
    "print(sum)"
   ]
  },
  {
   "cell_type": "code",
   "execution_count": 51,
   "metadata": {
    "collapsed": false
   },
   "outputs": [],
   "source": [
    "#打印1-10\n",
    "n=1\n",
    "while n<=100:\n",
    "    if n>10:\n",
    "        break\n",
    "    print(n)\n",
    "    n+=1"
   ]
  },
  {
   "cell_type": "code",
   "execution_count": 52,
   "metadata": {
    "collapsed": false
   },
   "outputs": [],
   "source": [
    "#打印1，3，5，7，9\n",
    "n=0\n",
    "while n<10:\n",
    "    n=n+1\n",
    "    if n%2==0:\n",
    "        continue\n",
    "    print(n)"
   ]
  },
  {
   "cell_type": "code",
   "execution_count": 10,
   "metadata": {
    "collapsed": false
   },
   "outputs": [],
   "source": [
    "#for循环打印字符串元素\n",
    "for letter in \"Room\":\n",
    "    if letter ==\"o\":\n",
    "        pass\n",
    "        print('pass')\n",
    "    print(letter)"
   ]
  },
  {
   "cell_type": "code",
   "execution_count": 4,
   "metadata": {
    "collapsed": false
   },
   "outputs": [
    {
     "name": "stdout",
     "output_type": "stream",
     "text": [
      "中等\n"
     ]
    }
   ],
   "source": [
    "#PMI空气质量计算\n",
    "pmi=60\n",
    "if pmi<=50:\n",
    "    print(\"良好\")\n",
    "elif pmi<=100:\n",
    "    print(\"中等\")\n",
    "elif pmi<=150:\n",
    "    print(\"对敏感人群不健康\")\n",
    "elif pmi<=200:\n",
    "    print(\"不健康\")\n",
    "elif pmi<=300:\n",
    "    print(\"非常不健康\")\n",
    "elif pmi<=500:\n",
    "    print(\"有毒害\")"
   ]
  },
  {
   "cell_type": "code",
   "execution_count": 66,
   "metadata": {
    "collapsed": false
   },
   "outputs": [],
   "source": [
    "# ---------试一试 5 -----------\n",
    "# 任务一  编写程序，输入体重，身高，计算体重指数BMI,并根据BMI值判断 肥胖、超重、正常、偏廋\n",
    "# bmi大于等于30 肥胖，大于等于25 小于30 超重  ，大于等于18.5 小于25 正常，小于18.5 偏廋\n"
   ]
  },
  {
   "cell_type": "code",
   "execution_count": null,
   "metadata": {
    "collapsed": false
   },
   "outputs": [],
   "source": []
  }
 ],
 "metadata": {
  "kernelspec": {
   "display_name": "PaddlePaddle 1.5.0 (Python 3.5)",
   "language": "python",
   "name": "py35-paddle1.2.0"
  },
  "language_info": {
   "codemirror_mode": {
    "name": "ipython",
    "version": 3
   },
   "file_extension": ".py",
   "mimetype": "text/x-python",
   "name": "python",
   "nbconvert_exporter": "python",
   "pygments_lexer": "ipython3",
   "version": "3.5.5"
  }
 },
 "nbformat": 4,
 "nbformat_minor": 1
}
